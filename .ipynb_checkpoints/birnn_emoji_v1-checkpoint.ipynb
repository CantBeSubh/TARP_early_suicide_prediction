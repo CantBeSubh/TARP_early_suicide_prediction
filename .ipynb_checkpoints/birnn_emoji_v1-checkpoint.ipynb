{
 "cells": [
  {
   "cell_type": "code",
   "execution_count": null,
   "metadata": {},
   "outputs": [
    {
     "ename": "",
     "evalue": "",
     "output_type": "error",
     "traceback": [
      "\u001b[1;31mRunning cells with '/opt/homebrew/bin/python3.10' requires the ipykernel package.\n",
      "\u001b[1;31mRun the following command to install 'ipykernel' into the Python environment. \n",
      "\u001b[1;31mCommand: '/opt/homebrew/bin/python3.10 -m pip install ipykernel -U --user --force-reinstall'"
     ]
    }
   ],
   "source": [
    "import pandas as pd\n",
    "from textblob import TextBlob\n",
    "import nltk\n",
    "from textblob import Word\n",
    "from nltk.corpus import stopwords\n",
    "from sklearn.preprocessing import LabelEncoder\n",
    "from sklearn.metrics import classification_report,confusion_matrix,accuracy_score\n",
    "from keras.models import Sequential\n",
    "from keras.preprocessing.text import Tokenizer\n",
    "from tensorflow.keras.preprocessing.sequence import pad_sequences\n",
    "from keras.layers import Dense, Embedding, LSTM, SpatialDropout1D,Conv1D,MaxPooling1D,GlobalMaxPooling1D,Flatten,SimpleRNN\n",
    "from keras import regularizers\n",
    "from sklearn.model_selection import train_test_split \n",
    "from tensorflow.keras.utils import to_categorical\n",
    "from sklearn import preprocessing\n",
    "from keras import layers"
   ]
  },
  {
   "cell_type": "code",
   "execution_count": 7,
   "metadata": {},
   "outputs": [],
   "source": [
    "df=pd.read_csv(\"/Users/aman/coding stuff/sem 6/tarp/dataset/Suicide_Detection.csv\")\n",
    "df=df.dropna()"
   ]
  },
  {
   "cell_type": "code",
   "execution_count": 8,
   "metadata": {},
   "outputs": [],
   "source": [
    "max_words = 5000\n",
    "max_len = 200\n",
    "tokenizer = Tokenizer(num_words=max_words)\n",
    "tokenizer.fit_on_texts(df['text'].values)\n",
    "sequences = tokenizer.texts_to_sequences(df['text'].values)\n",
    "comments = pad_sequences(sequences, maxlen=max_len)"
   ]
  },
  {
   "cell_type": "code",
   "execution_count": 9,
   "metadata": {},
   "outputs": [],
   "source": [
    "model3 = Sequential()\n",
    "model3.add(layers.Embedding(max_words, 40, input_length=max_len))\n",
    "model3.add(layers.Bidirectional(layers.LSTM(100,dropout=0.6)))\n",
    "model3.add(layers.Dense(3,activation='softmax'))\n",
    "model3.compile(optimizer='rmsprop',loss='categorical_crossentropy', metrics=['accuracy'])"
   ]
  },
  {
   "cell_type": "code",
   "execution_count": 10,
   "metadata": {},
   "outputs": [],
   "source": [
    "df[\"class\"]=preprocessing.LabelEncoder().fit_transform(df[\"class\"])\n",
    "X_train,X_test,y_train,y_test=train_test_split(comments,df[\"class\"],test_size=0.2)\n",
    "y_train = to_categorical(y_train, 3)\n",
    "y_test = to_categorical(y_test, 3)"
   ]
  },
  {
   "cell_type": "code",
   "execution_count": 11,
   "metadata": {},
   "outputs": [
    {
     "name": "stdout",
     "output_type": "stream",
     "text": [
      "Epoch 1/25\n",
      "5802/5802 [==============================] - 577s 99ms/step - loss: 0.2411 - accuracy: 0.9088\n",
      "Epoch 2/25\n",
      "5802/5802 [==============================] - 579s 100ms/step - loss: 0.1938 - accuracy: 0.9290\n",
      "Epoch 3/25\n",
      "5802/5802 [==============================] - 600s 103ms/step - loss: 0.1853 - accuracy: 0.9317\n",
      "Epoch 4/25\n",
      "5802/5802 [==============================] - 604s 104ms/step - loss: 0.1790 - accuracy: 0.9341\n",
      "Epoch 5/25\n",
      "5802/5802 [==============================] - 618s 106ms/step - loss: 0.1735 - accuracy: 0.9363\n",
      "Epoch 6/25\n",
      "5802/5802 [==============================] - 575s 99ms/step - loss: 0.1703 - accuracy: 0.9376\n",
      "Epoch 7/25\n",
      "5802/5802 [==============================] - 620s 107ms/step - loss: 0.1675 - accuracy: 0.9389\n",
      "Epoch 8/25\n",
      "5802/5802 [==============================] - 601s 104ms/step - loss: 0.1643 - accuracy: 0.9398\n",
      "Epoch 9/25\n",
      "5802/5802 [==============================] - 583s 100ms/step - loss: 0.1625 - accuracy: 0.9406\n",
      "Epoch 10/25\n",
      "5802/5802 [==============================] - 667s 115ms/step - loss: 0.1613 - accuracy: 0.9411\n",
      "Epoch 11/25\n",
      "5802/5802 [==============================] - 2829s 488ms/step - loss: 0.1599 - accuracy: 0.9419\n",
      "Epoch 12/25\n",
      "5802/5802 [==============================] - 620s 107ms/step - loss: 0.1588 - accuracy: 0.9420\n",
      "Epoch 13/25\n",
      "5802/5802 [==============================] - 617s 106ms/step - loss: 0.1588 - accuracy: 0.9424\n",
      "Epoch 14/25\n",
      "5802/5802 [==============================] - 609s 105ms/step - loss: 0.1570 - accuracy: 0.9431\n",
      "Epoch 15/25\n",
      "5802/5802 [==============================] - 599s 103ms/step - loss: 0.1565 - accuracy: 0.9436\n",
      "Epoch 16/25\n",
      "5802/5802 [==============================] - 582s 100ms/step - loss: 0.1553 - accuracy: 0.9439\n",
      "Epoch 17/25\n",
      "5802/5802 [==============================] - 1936s 334ms/step - loss: 0.1545 - accuracy: 0.9445\n",
      "Epoch 18/25\n",
      "5802/5802 [==============================] - 605s 104ms/step - loss: 0.1538 - accuracy: 0.9450\n",
      "Epoch 19/25\n",
      "5802/5802 [==============================] - 616s 106ms/step - loss: 0.1537 - accuracy: 0.9447\n",
      "Epoch 20/25\n",
      "5802/5802 [==============================] - 596s 103ms/step - loss: 0.1522 - accuracy: 0.9454\n",
      "Epoch 21/25\n",
      "5802/5802 [==============================] - 15171s 3s/step - loss: 0.1519 - accuracy: 0.9454\n",
      "Epoch 22/25\n",
      "5802/5802 [==============================] - 553s 95ms/step - loss: 0.1511 - accuracy: 0.9461\n",
      "Epoch 23/25\n",
      "5802/5802 [==============================] - 540s 93ms/step - loss: 0.1506 - accuracy: 0.9461\n",
      "Epoch 24/25\n",
      "5802/5802 [==============================] - 4319s 745ms/step - loss: 0.1499 - accuracy: 0.9461\n",
      "Epoch 25/25\n",
      "5802/5802 [==============================] - 861s 148ms/step - loss: 0.1501 - accuracy: 0.9466\n",
      "1451/1451 [==============================] - 42s 29ms/step - loss: 0.1677 - accuracy: 0.9406\n"
     ]
    },
    {
     "data": {
      "text/plain": [
       "[0.16765223443508148, 0.9406442046165466]"
      ]
     },
     "execution_count": 11,
     "metadata": {},
     "output_type": "execute_result"
    }
   ],
   "source": [
    "model3.fit(X_train, y_train, epochs=25)\n",
    "model3.evaluate(X_test,y_test)"
   ]
  }
 ],
 "metadata": {
  "kernelspec": {
   "display_name": "Python 3 (ipykernel)",
   "language": "python",
   "name": "python3"
  },
  "language_info": {
   "codemirror_mode": {
    "name": "ipython",
    "version": 3
   },
   "file_extension": ".py",
   "mimetype": "text/x-python",
   "name": "python",
   "nbconvert_exporter": "python",
   "pygments_lexer": "ipython3",
   "version": "3.10.9"
  },
  "vscode": {
   "interpreter": {
    "hash": "bd385fe162c5ca0c84973b7dd5c518456272446b2b64e67c2a69f949ca7a1754"
   }
  }
 },
 "nbformat": 4,
 "nbformat_minor": 2
}
