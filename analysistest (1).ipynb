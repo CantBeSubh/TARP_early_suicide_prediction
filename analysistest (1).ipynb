{
 "cells": [
  {
   "cell_type": "code",
   "execution_count": 1,
   "metadata": {},
   "outputs": [],
   "source": [
    "import pandas as pd\n",
    "from textblob import TextBlob\n",
    "import nltk\n",
    "from textblob import Word\n",
    "from nltk.corpus import stopwords\n",
    "from sklearn.preprocessing import LabelEncoder\n",
    "from sklearn.metrics import classification_report,confusion_matrix,accuracy_score\n",
    "from keras.models import Sequential\n",
    "from keras.preprocessing.text import Tokenizer\n",
    "from tensorflow.keras.preprocessing.sequence import pad_sequences\n",
    "from keras.layers import Dense, Embedding, LSTM, SpatialDropout1D\n",
    "from sklearn.model_selection import train_test_split \n",
    "from tensorflow.keras.utils import to_categorical\n",
    "from sklearn import preprocessing"
   ]
  },
  {
   "cell_type": "code",
   "execution_count": 14,
   "metadata": {},
   "outputs": [],
   "source": [
    "df=pd.read_csv(\"/Users/aman/coding stuff/sem 6/tarp/dataset/Suicide_preprocessed4.csv\")\n",
    "#df = pd.read_csv( \"/Users/aman/coding stuff/sem 6/tarp/dataset/Suicide_preprocessed1.csv\", index_col=None, header=0, engine='python' )"
   ]
  },
  {
   "cell_type": "code",
   "execution_count": 15,
   "metadata": {},
   "outputs": [],
   "source": [
    "df=df.dropna()"
   ]
  },
  {
   "cell_type": "code",
   "execution_count": 66,
   "metadata": {},
   "outputs": [
    {
     "data": {
      "text/html": [
       "<div>\n",
       "<style scoped>\n",
       "    .dataframe tbody tr th:only-of-type {\n",
       "        vertical-align: middle;\n",
       "    }\n",
       "\n",
       "    .dataframe tbody tr th {\n",
       "        vertical-align: top;\n",
       "    }\n",
       "\n",
       "    .dataframe thead th {\n",
       "        text-align: right;\n",
       "    }\n",
       "</style>\n",
       "<table border=\"1\" class=\"dataframe\">\n",
       "  <thead>\n",
       "    <tr style=\"text-align: right;\">\n",
       "      <th></th>\n",
       "      <th>Unnamed: 0</th>\n",
       "      <th>text</th>\n",
       "      <th>class</th>\n",
       "    </tr>\n",
       "  </thead>\n",
       "  <tbody>\n",
       "    <tr>\n",
       "      <th>0</th>\n",
       "      <td>0</td>\n",
       "      <td>Ex Wife Threatening SuicideRecently left wife ...</td>\n",
       "      <td>suicide</td>\n",
       "    </tr>\n",
       "    <tr>\n",
       "      <th>1</th>\n",
       "      <td>1</td>\n",
       "      <td>weird not get affected compliments coming some...</td>\n",
       "      <td>non-suicide</td>\n",
       "    </tr>\n",
       "    <tr>\n",
       "      <th>2</th>\n",
       "      <td>2</td>\n",
       "      <td>Finally almost never hear bad year ever swear ...</td>\n",
       "      <td>non-suicide</td>\n",
       "    </tr>\n",
       "    <tr>\n",
       "      <th>3</th>\n",
       "      <td>3</td>\n",
       "      <td>need helpjust help me crying hard</td>\n",
       "      <td>suicide</td>\n",
       "    </tr>\n",
       "    <tr>\n",
       "      <th>4</th>\n",
       "      <td>4</td>\n",
       "      <td>lostHello name Adam and struggling years and a...</td>\n",
       "      <td>suicide</td>\n",
       "    </tr>\n",
       "    <tr>\n",
       "      <th>5</th>\n",
       "      <td>5</td>\n",
       "      <td>Honetly idkI not know even feel like nothing a...</td>\n",
       "      <td>suicide</td>\n",
       "    </tr>\n",
       "    <tr>\n",
       "      <th>6</th>\n",
       "      <td>6</td>\n",
       "      <td>Trigger warning Excuse self inflicted burns kn...</td>\n",
       "      <td>suicide</td>\n",
       "    </tr>\n",
       "    <tr>\n",
       "      <th>7</th>\n",
       "      <td>7</td>\n",
       "      <td>ends tonight cannot anymore quit</td>\n",
       "      <td>suicide</td>\n",
       "    </tr>\n",
       "    <tr>\n",
       "      <th>8</th>\n",
       "      <td>8</td>\n",
       "      <td>Everyone wants edgy and making me self conscio...</td>\n",
       "      <td>non-suicide</td>\n",
       "    </tr>\n",
       "    <tr>\n",
       "      <th>9</th>\n",
       "      <td>9</td>\n",
       "      <td>life years oldHello year old balding male hair...</td>\n",
       "      <td>suicide</td>\n",
       "    </tr>\n",
       "  </tbody>\n",
       "</table>\n",
       "</div>"
      ],
      "text/plain": [
       "   Unnamed: 0                                               text        class\n",
       "0           0  Ex Wife Threatening SuicideRecently left wife ...      suicide\n",
       "1           1  weird not get affected compliments coming some...  non-suicide\n",
       "2           2  Finally almost never hear bad year ever swear ...  non-suicide\n",
       "3           3                  need helpjust help me crying hard      suicide\n",
       "4           4  lostHello name Adam and struggling years and a...      suicide\n",
       "5           5  Honetly idkI not know even feel like nothing a...      suicide\n",
       "6           6  Trigger warning Excuse self inflicted burns kn...      suicide\n",
       "7           7                   ends tonight cannot anymore quit      suicide\n",
       "8           8  Everyone wants edgy and making me self conscio...  non-suicide\n",
       "9           9  life years oldHello year old balding male hair...      suicide"
      ]
     },
     "execution_count": 66,
     "metadata": {},
     "output_type": "execute_result"
    }
   ],
   "source": [
    "df.head(10)"
   ]
  },
  {
   "cell_type": "code",
   "execution_count": 67,
   "metadata": {},
   "outputs": [
    {
     "name": "stderr",
     "output_type": "stream",
     "text": [
      "[nltk_data] Downloading package wordnet to /Users/aman/nltk_data...\n",
      "[nltk_data]   Package wordnet is already up-to-date!\n",
      "[nltk_data] Downloading package omw-1.4 to /Users/aman/nltk_data...\n",
      "[nltk_data]   Package omw-1.4 is already up-to-date!\n"
     ]
    },
    {
     "data": {
      "text/plain": [
       "True"
      ]
     },
     "execution_count": 67,
     "metadata": {},
     "output_type": "execute_result"
    }
   ],
   "source": [
    "nltk.download('wordnet')\n",
    "nltk.download('omw-1.4')"
   ]
  },
  {
   "cell_type": "code",
   "execution_count": null,
   "metadata": {},
   "outputs": [],
   "source": [
    "def cleaning(df):\n",
    "    df['text'] = df['text'].apply(lambda x: ' '.join(x.lower() for x in x.split()))\n",
    "    # Lemmatization\n",
    "    df['text'] = df['text'].apply(lambda x: ' '.join([Word(x).lemmatize() for x in x.split()]))\n",
    "    return df\n",
    "\n",
    "\n",
    "#Generating Embeddings using tokenizer\n",
    "data_cleaned=cleaning(df)\n",
    "tokenizer = Tokenizer(num_words=500, split=' ') \n",
    "tokenizer.fit_on_texts(data_cleaned['text'].values)\n",
    "X = tokenizer.texts_to_sequences(data_cleaned['text'].values)\n",
    "X = pad_sequences(X)"
   ]
  },
  {
   "cell_type": "code",
   "execution_count": null,
   "metadata": {},
   "outputs": [],
   "source": [
    "\n",
    "#Generating Embeddings using tokenizer\n",
    "data_cleaned=cleaning(df)\n",
    "tokenizer = Tokenizer(num_words=500, split=' ') \n",
    "tokenizer.fit_on_texts(data_cleaned['text'].values)\n",
    "X = tokenizer.texts_to_sequences(data_cleaned['text'].values)\n",
    "X = pad_sequences(X)\n",
    "#Model Building\n",
    "model = Sequential()\n",
    "model.add(Embedding(500, 120, input_length = X.shape[1]))\n",
    "model.add(SpatialDropout1D(0.4))\n",
    "model.add(LSTM(704, dropout=0.2, recurrent_dropout=0.2))\n",
    "model.add(Dense(352, activation='LeakyReLU'))\n",
    "model.add(Dense(3, activation='softmax'))\n",
    "model.compile(loss = 'categorical_crossentropy', optimizer='adam', metrics = ['accuracy'])\n",
    "print(model.summary())\n",
    "df[\"class\"]=preprocessing.LabelEncoder().fit_transform(df[\"class\"])\n",
    "X_train,X_test,y_train,y_test=train_test_split(X,df[\"class\"],test_size=0.2)\n",
    "\n",
    "y_train = to_categorical(y_train, 3)\n",
    "y_test = to_categorical(y_test, 3)\n",
    "#Model Training\n",
    "print(X_train,X_test,y_train,y_test)\n",
    "model.fit(X_train, y_train, epochs = 20, batch_size=32, verbose =1)\n",
    "#Model Testing\n",
    "model.evaluate(X_test,y_test)"
   ]
  },
  {
   "cell_type": "code",
   "execution_count": 62,
   "metadata": {},
   "outputs": [
    {
     "name": "stdout",
     "output_type": "stream",
     "text": [
      "1/1 [==============================] - 2s 2s/step - loss: 0.3945 - accuracy: 0.7000\n"
     ]
    },
    {
     "data": {
      "text/plain": [
       "[0.39446890354156494, 0.699999988079071]"
      ]
     },
     "execution_count": 62,
     "metadata": {},
     "output_type": "execute_result"
    }
   ],
   "source": [
    "model.evaluate(X_test,y_test)"
   ]
  },
  {
   "cell_type": "code",
   "execution_count": 13,
   "metadata": {},
   "outputs": [
    {
     "name": "stdout",
     "output_type": "stream",
     "text": [
      "[[  0   0   0 ...  22 120  43]\n",
      " [  0   0   0 ...   2  14 404]\n",
      " [290 105 106 ... 303  11 357]\n",
      " ...\n",
      " [  0   0   0 ...  36  24 143]\n",
      " [  0   0   0 ... 315  79 118]\n",
      " [  0   0   0 ...  69 165 164]] 80\n",
      "[[  0   0   0 ... 253  89   2]\n",
      " [  0   0   0 ...  43 445   1]\n",
      " [  0   0   0 ...  98  15  81]\n",
      " ...\n",
      " [  0   0   0 ...  26 356   4]\n",
      " [  0   0   0 ...   3  27  45]\n",
      " [  0   0   0 ...  56 118  10]] 20\n",
      "[[0. 1. 0.]\n",
      " [0. 1. 0.]\n",
      " [0. 1. 0.]\n",
      " [1. 0. 0.]\n",
      " [0. 1. 0.]\n",
      " [1. 0. 0.]\n",
      " [1. 0. 0.]\n",
      " [0. 1. 0.]\n",
      " [1. 0. 0.]\n",
      " [1. 0. 0.]\n",
      " [1. 0. 0.]\n",
      " [1. 0. 0.]\n",
      " [1. 0. 0.]\n",
      " [1. 0. 0.]\n",
      " [0. 1. 0.]\n",
      " [1. 0. 0.]\n",
      " [1. 0. 0.]\n",
      " [0. 1. 0.]\n",
      " [0. 1. 0.]\n",
      " [0. 1. 0.]\n",
      " [0. 1. 0.]\n",
      " [0. 1. 0.]\n",
      " [0. 1. 0.]\n",
      " [0. 1. 0.]\n",
      " [0. 1. 0.]\n",
      " [0. 1. 0.]\n",
      " [0. 1. 0.]\n",
      " [1. 0. 0.]\n",
      " [1. 0. 0.]\n",
      " [1. 0. 0.]\n",
      " [0. 1. 0.]\n",
      " [0. 1. 0.]\n",
      " [1. 0. 0.]\n",
      " [0. 1. 0.]\n",
      " [1. 0. 0.]\n",
      " [1. 0. 0.]\n",
      " [0. 1. 0.]\n",
      " [0. 1. 0.]\n",
      " [0. 1. 0.]\n",
      " [0. 1. 0.]\n",
      " [0. 1. 0.]\n",
      " [0. 1. 0.]\n",
      " [0. 1. 0.]\n",
      " [0. 1. 0.]\n",
      " [0. 1. 0.]\n",
      " [0. 1. 0.]\n",
      " [1. 0. 0.]\n",
      " [0. 1. 0.]\n",
      " [1. 0. 0.]\n",
      " [1. 0. 0.]\n",
      " [0. 1. 0.]\n",
      " [0. 1. 0.]\n",
      " [0. 1. 0.]\n",
      " [0. 1. 0.]\n",
      " [1. 0. 0.]\n",
      " [1. 0. 0.]\n",
      " [0. 1. 0.]\n",
      " [1. 0. 0.]\n",
      " [1. 0. 0.]\n",
      " [1. 0. 0.]\n",
      " [0. 1. 0.]\n",
      " [0. 1. 0.]\n",
      " [1. 0. 0.]\n",
      " [1. 0. 0.]\n",
      " [0. 1. 0.]\n",
      " [1. 0. 0.]\n",
      " [0. 1. 0.]\n",
      " [0. 1. 0.]\n",
      " [1. 0. 0.]\n",
      " [1. 0. 0.]\n",
      " [0. 1. 0.]\n",
      " [1. 0. 0.]\n",
      " [0. 1. 0.]\n",
      " [0. 1. 0.]\n",
      " [0. 1. 0.]\n",
      " [0. 1. 0.]\n",
      " [0. 1. 0.]\n",
      " [1. 0. 0.]\n",
      " [1. 0. 0.]\n",
      " [1. 0. 0.]] 80\n",
      "[[1. 0. 0.]\n",
      " [1. 0. 0.]\n",
      " [0. 1. 0.]\n",
      " [1. 0. 0.]\n",
      " [1. 0. 0.]\n",
      " [0. 1. 0.]\n",
      " [0. 1. 0.]\n",
      " [0. 1. 0.]\n",
      " [0. 1. 0.]\n",
      " [0. 1. 0.]\n",
      " [0. 1. 0.]\n",
      " [1. 0. 0.]\n",
      " [1. 0. 0.]\n",
      " [0. 1. 0.]\n",
      " [0. 1. 0.]\n",
      " [0. 1. 0.]\n",
      " [0. 1. 0.]\n",
      " [0. 1. 0.]\n",
      " [0. 1. 0.]\n",
      " [1. 0. 0.]] 20\n"
     ]
    }
   ],
   "source": [
    "print(X_train,len(X_train))\n",
    "print(X_test,len(X_test))\n",
    "print(y_train,len(y_train))\n",
    "print(y_test,len(y_test))"
   ]
  },
  {
   "cell_type": "code",
   "execution_count": 4,
   "metadata": {},
   "outputs": [],
   "source": [
    "df_text=df[\"text\"].tolist()\n",
    "df_class=df[\"class\"].tolist()\n"
   ]
  },
  {
   "cell_type": "code",
   "execution_count": 9,
   "metadata": {},
   "outputs": [
    {
     "name": "stdout",
     "output_type": "stream",
     "text": [
      "28837\n",
      "232005\n",
      "203168\n",
      "125471\n"
     ]
    }
   ],
   "source": [
    "wantedRows = df[df[\"text\"].str.split().str.len()>150].index \n",
    "print(len(wantedRows))\n",
    "print(len(df))\n",
    "df_less_450 =  df[\"text\"].drop(wantedRows, axis = 0)\n",
    "print(len(df_less_450))\n",
    "shortRows = df[df[\"text\"].str.split().str.len()<40].index \n",
    "print(len(shortRows))"
   ]
  },
  {
   "cell_type": "code",
   "execution_count": 21,
   "metadata": {},
   "outputs": [
    {
     "data": {
      "text/plain": [
       "0         Ex Wife Threatening SuicideRecently left wife ...\n",
       "1         weird not get affected compliments coming some...\n",
       "2         Finally almost never hear bad year ever swear ...\n",
       "3                         need helpjust help me crying hard\n",
       "4         lostHello name Adam and struggling years and a...\n",
       "                                ...                        \n",
       "232069    you not like rock not going get anything but g...\n",
       "232070    You you tell many friends and not lonely and e...\n",
       "232071    pee probably tastes like salty tea someone dra...\n",
       "232072    usual stuff you find hereI not posting sympath...\n",
       "232073    still not beaten first boss Hollow Knight foug...\n",
       "Name: text, Length: 220098, dtype: object"
      ]
     },
     "execution_count": 21,
     "metadata": {},
     "output_type": "execute_result"
    }
   ],
   "source": [
    "(df_less_450)"
   ]
  },
  {
   "cell_type": "code",
   "execution_count": 24,
   "metadata": {},
   "outputs": [
    {
     "ename": "AttributeError",
     "evalue": "'list' object has no attribute 'tolist'",
     "output_type": "error",
     "traceback": [
      "\u001b[0;31m---------------------------------------------------------------------------\u001b[0m",
      "\u001b[0;31mAttributeError\u001b[0m                            Traceback (most recent call last)",
      "Cell \u001b[0;32mIn[24], line 1\u001b[0m\n\u001b[0;32m----> 1\u001b[0m df_less_450\u001b[39m=\u001b[39mdf_less_450\u001b[39m.\u001b[39;49mtolist()\n",
      "\u001b[0;31mAttributeError\u001b[0m: 'list' object has no attribute 'tolist'"
     ]
    }
   ],
   "source": [
    "df_less_450=df_less_450.tolist()"
   ]
  },
  {
   "cell_type": "code",
   "execution_count": 42,
   "metadata": {},
   "outputs": [
    {
     "name": "stdout",
     "output_type": "stream",
     "text": [
      "[[{'label': 'NEGATIVE', 'score': 0.9813257455825806}], [{'label': 'POSITIVE', 'score': 0.9924561977386475}], [{'label': 'POSITIVE', 'score': 0.9879748821258545}], [{'label': 'NEGATIVE', 'score': 0.9963231086730957}], [{'label': 'NEGATIVE', 'score': 0.9901783466339111}], [{'label': 'NEGATIVE', 'score': 0.9974479675292969}], [{'label': 'NEGATIVE', 'score': 0.9769376516342163}], [{'label': 'NEGATIVE', 'score': 0.7028540372848511}], [{'label': 'NEGATIVE', 'score': 0.9953219294548035}], [{'label': 'NEGATIVE', 'score': 0.9972437620162964}], [{'label': 'NEGATIVE', 'score': 0.9661169648170471}], [{'label': 'NEGATIVE', 'score': 0.9979548454284668}], [{'label': 'NEGATIVE', 'score': 0.8084930777549744}], [{'label': 'NEGATIVE', 'score': 0.992155909538269}], [{'label': 'NEGATIVE', 'score': 0.9987903237342834}], [{'label': 'NEGATIVE', 'score': 0.9949349761009216}], [{'label': 'NEGATIVE', 'score': 0.9968137145042419}], [{'label': 'NEGATIVE', 'score': 0.9996371269226074}], [{'label': 'NEGATIVE', 'score': 0.9989016056060791}], [{'label': 'NEGATIVE', 'score': 0.9616683721542358}], [{'label': 'NEGATIVE', 'score': 0.9950272440910339}], [{'label': 'NEGATIVE', 'score': 0.9969246983528137}], [{'label': 'NEGATIVE', 'score': 0.7276686429977417}], [{'label': 'NEGATIVE', 'score': 0.9986664056777954}], [{'label': 'NEGATIVE', 'score': 0.9880082607269287}], [{'label': 'NEGATIVE', 'score': 0.9448767304420471}], [{'label': 'NEGATIVE', 'score': 0.9931882619857788}], [{'label': 'POSITIVE', 'score': 0.9965698719024658}], [{'label': 'NEGATIVE', 'score': 0.9978475570678711}], [{'label': 'NEGATIVE', 'score': 0.9826745390892029}], [{'label': 'NEGATIVE', 'score': 0.9045161008834839}], [{'label': 'NEGATIVE', 'score': 0.9945881366729736}], [{'label': 'POSITIVE', 'score': 0.9990144968032837}], [{'label': 'NEGATIVE', 'score': 0.8272981643676758}], [{'label': 'NEGATIVE', 'score': 0.994834303855896}], [{'label': 'NEGATIVE', 'score': 0.998264729976654}], [{'label': 'NEGATIVE', 'score': 0.9067460894584656}], [{'label': 'NEGATIVE', 'score': 0.9891291856765747}], [{'label': 'NEGATIVE', 'score': 0.9851974844932556}], [{'label': 'NEGATIVE', 'score': 0.9942666888237}], [{'label': 'NEGATIVE', 'score': 0.9935744404792786}], [{'label': 'NEGATIVE', 'score': 0.9230472445487976}], [{'label': 'NEGATIVE', 'score': 0.996452808380127}], [{'label': 'NEGATIVE', 'score': 0.9926310777664185}], [{'label': 'NEGATIVE', 'score': 0.9987916350364685}], [{'label': 'NEGATIVE', 'score': 0.9991356730461121}], [{'label': 'NEGATIVE', 'score': 0.9993506073951721}], [{'label': 'POSITIVE', 'score': 0.9920883774757385}], [{'label': 'POSITIVE', 'score': 0.5489084720611572}], [{'label': 'NEGATIVE', 'score': 0.9962182641029358}], [{'label': 'POSITIVE', 'score': 0.9771530628204346}], [{'label': 'NEGATIVE', 'score': 0.9863246083259583}], [{'label': 'POSITIVE', 'score': 0.7187484502792358}], [{'label': 'NEGATIVE', 'score': 0.9786568284034729}], [{'label': 'POSITIVE', 'score': 0.9998565912246704}], [{'label': 'NEGATIVE', 'score': 0.9959486126899719}], [{'label': 'NEGATIVE', 'score': 0.9908297061920166}], [{'label': 'NEGATIVE', 'score': 0.9908754825592041}], [{'label': 'NEGATIVE', 'score': 0.8991801142692566}], [{'label': 'NEGATIVE', 'score': 0.988128125667572}], [{'label': 'NEGATIVE', 'score': 0.9970622658729553}], [{'label': 'NEGATIVE', 'score': 0.9985501170158386}], [{'label': 'NEGATIVE', 'score': 0.9991014003753662}], [{'label': 'POSITIVE', 'score': 0.9996351003646851}], [{'label': 'NEGATIVE', 'score': 0.9915660619735718}], [{'label': 'NEGATIVE', 'score': 0.9857466220855713}], [{'label': 'NEGATIVE', 'score': 0.8715210556983948}], [{'label': 'NEGATIVE', 'score': 0.9417417645454407}], [{'label': 'NEGATIVE', 'score': 0.9935957789421082}], [{'label': 'POSITIVE', 'score': 0.7360411286354065}], [{'label': 'NEGATIVE', 'score': 0.7758479714393616}], [{'label': 'NEGATIVE', 'score': 0.9984574317932129}], [{'label': 'NEGATIVE', 'score': 0.9994738698005676}], [{'label': 'NEGATIVE', 'score': 0.9993554949760437}], [{'label': 'NEGATIVE', 'score': 0.996167004108429}], [{'label': 'NEGATIVE', 'score': 0.9897685050964355}], [{'label': 'NEGATIVE', 'score': 0.9987397789955139}], [{'label': 'NEGATIVE', 'score': 0.982348620891571}], [{'label': 'NEGATIVE', 'score': 0.9390847086906433}], [{'label': 'NEGATIVE', 'score': 0.9981390237808228}], [{'label': 'NEGATIVE', 'score': 0.9983232617378235}], [{'label': 'NEGATIVE', 'score': 0.9982432126998901}], [{'label': 'NEGATIVE', 'score': 0.9923111200332642}], [{'label': 'NEGATIVE', 'score': 0.9976499676704407}], [{'label': 'NEGATIVE', 'score': 0.8348944783210754}], [{'label': 'NEGATIVE', 'score': 0.9263943433761597}], [{'label': 'NEGATIVE', 'score': 0.9970067143440247}], [{'label': 'NEGATIVE', 'score': 0.9958953857421875}], [{'label': 'NEGATIVE', 'score': 0.997557520866394}], [{'label': 'NEGATIVE', 'score': 0.97308748960495}], [{'label': 'NEGATIVE', 'score': 0.9978894591331482}], [{'label': 'NEGATIVE', 'score': 0.9909676909446716}], [{'label': 'NEGATIVE', 'score': 0.9636275172233582}], [{'label': 'NEGATIVE', 'score': 0.9667627215385437}], [{'label': 'POSITIVE', 'score': 0.9990062117576599}], [{'label': 'NEGATIVE', 'score': 0.9902246594429016}], [{'label': 'NEGATIVE', 'score': 0.996609091758728}], [{'label': 'NEGATIVE', 'score': 0.9793359637260437}], [{'label': 'NEGATIVE', 'score': 0.9985902905464172}], [{'label': 'POSITIVE', 'score': 0.578885555267334}]]\n"
     ]
    }
   ],
   "source": [
    "from transformers import pipeline\n",
    "import torch\n",
    "import torch.nn as nn\n",
    "import torch.nn.functional as F\n",
    "from transformers import AutoTokenizer, AutoModelForSequenceClassification\n",
    "model_name = \"distilbert-base-uncased-finetuned-sst-2-english\"\n",
    "model = AutoModelForSequenceClassification.from_pretrained(model_name)\n",
    "tokenizer = AutoTokenizer.from_pretrained(model_name)\n",
    "#tokenized_sentence = tokenizer.encode(df_less_450, padding=True, truncation=True,max_length=50, add_special_tokens = True)\n",
    "sentiment_pipeline = pipeline(\"sentiment-analysis\",model=model, tokenizer=tokenizer)\n",
    "l1=[]\n",
    "for i in df_less_450[0:100]:\n",
    "    l1.append(sentiment_pipeline(i))\n",
    "print(l1)\n",
    "#print(l1[0][\"label\"])\n"
   ]
  },
  {
   "cell_type": "code",
   "execution_count": 47,
   "metadata": {},
   "outputs": [
    {
     "name": "stdout",
     "output_type": "stream",
     "text": [
      "NEGATIVE\n"
     ]
    }
   ],
   "source": [
    "print(l1[0][0][\"label\"])"
   ]
  },
  {
   "cell_type": "code",
   "execution_count": 48,
   "metadata": {},
   "outputs": [
    {
     "data": {
      "text/html": [
       "<div>\n",
       "<style scoped>\n",
       "    .dataframe tbody tr th:only-of-type {\n",
       "        vertical-align: middle;\n",
       "    }\n",
       "\n",
       "    .dataframe tbody tr th {\n",
       "        vertical-align: top;\n",
       "    }\n",
       "\n",
       "    .dataframe thead th {\n",
       "        text-align: right;\n",
       "    }\n",
       "</style>\n",
       "<table border=\"1\" class=\"dataframe\">\n",
       "  <thead>\n",
       "    <tr style=\"text-align: right;\">\n",
       "      <th></th>\n",
       "      <th>Unnamed: 0</th>\n",
       "      <th>text</th>\n",
       "      <th>class</th>\n",
       "    </tr>\n",
       "  </thead>\n",
       "  <tbody>\n",
       "    <tr>\n",
       "      <th>0</th>\n",
       "      <td>0</td>\n",
       "      <td>Ex Wife Threatening SuicideRecently left wife ...</td>\n",
       "      <td>suicide</td>\n",
       "    </tr>\n",
       "    <tr>\n",
       "      <th>1</th>\n",
       "      <td>1</td>\n",
       "      <td>weird not get affected compliments coming some...</td>\n",
       "      <td>non-suicide</td>\n",
       "    </tr>\n",
       "    <tr>\n",
       "      <th>2</th>\n",
       "      <td>2</td>\n",
       "      <td>Finally almost never hear bad year ever swear ...</td>\n",
       "      <td>non-suicide</td>\n",
       "    </tr>\n",
       "    <tr>\n",
       "      <th>3</th>\n",
       "      <td>3</td>\n",
       "      <td>need helpjust help me crying hard</td>\n",
       "      <td>suicide</td>\n",
       "    </tr>\n",
       "    <tr>\n",
       "      <th>4</th>\n",
       "      <td>4</td>\n",
       "      <td>lostHello name Adam and struggling years and a...</td>\n",
       "      <td>suicide</td>\n",
       "    </tr>\n",
       "    <tr>\n",
       "      <th>5</th>\n",
       "      <td>5</td>\n",
       "      <td>Honetly idkI not know even feel like nothing a...</td>\n",
       "      <td>suicide</td>\n",
       "    </tr>\n",
       "    <tr>\n",
       "      <th>6</th>\n",
       "      <td>6</td>\n",
       "      <td>Trigger warning Excuse self inflicted burns kn...</td>\n",
       "      <td>suicide</td>\n",
       "    </tr>\n",
       "    <tr>\n",
       "      <th>7</th>\n",
       "      <td>7</td>\n",
       "      <td>ends tonight cannot anymore quit</td>\n",
       "      <td>suicide</td>\n",
       "    </tr>\n",
       "    <tr>\n",
       "      <th>8</th>\n",
       "      <td>8</td>\n",
       "      <td>Everyone wants edgy and making me self conscio...</td>\n",
       "      <td>non-suicide</td>\n",
       "    </tr>\n",
       "    <tr>\n",
       "      <th>9</th>\n",
       "      <td>9</td>\n",
       "      <td>life years oldHello year old balding male hair...</td>\n",
       "      <td>suicide</td>\n",
       "    </tr>\n",
       "  </tbody>\n",
       "</table>\n",
       "</div>"
      ],
      "text/plain": [
       "   Unnamed: 0                                               text        class\n",
       "0           0  Ex Wife Threatening SuicideRecently left wife ...      suicide\n",
       "1           1  weird not get affected compliments coming some...  non-suicide\n",
       "2           2  Finally almost never hear bad year ever swear ...  non-suicide\n",
       "3           3                  need helpjust help me crying hard      suicide\n",
       "4           4  lostHello name Adam and struggling years and a...      suicide\n",
       "5           5  Honetly idkI not know even feel like nothing a...      suicide\n",
       "6           6  Trigger warning Excuse self inflicted burns kn...      suicide\n",
       "7           7                   ends tonight cannot anymore quit      suicide\n",
       "8           8  Everyone wants edgy and making me self conscio...  non-suicide\n",
       "9           9  life years oldHello year old balding male hair...      suicide"
      ]
     },
     "execution_count": 48,
     "metadata": {},
     "output_type": "execute_result"
    }
   ],
   "source": [
    "df.head(10)"
   ]
  },
  {
   "cell_type": "code",
   "execution_count": 53,
   "metadata": {},
   "outputs": [],
   "source": [
    "l3=[]\n",
    "for i in l1:\n",
    "    if i[0][\"label\"]==\"NEGATIVE\":\n",
    "        l3.append(\"suicide\")\n",
    "    else:\n",
    "        l3.append(\"non-suicide\")\n"
   ]
  },
  {
   "cell_type": "code",
   "execution_count": 54,
   "metadata": {},
   "outputs": [
    {
     "name": "stdout",
     "output_type": "stream",
     "text": [
      "0.62\n"
     ]
    }
   ],
   "source": [
    "l2=df_class[0:100]\n",
    "print(accuracy_score(l2,l3))"
   ]
  }
 ],
 "metadata": {
  "kernelspec": {
   "display_name": "base",
   "language": "python",
   "name": "python3"
  },
  "language_info": {
   "codemirror_mode": {
    "name": "ipython",
    "version": 3
   },
   "file_extension": ".py",
   "mimetype": "text/x-python",
   "name": "python",
   "nbconvert_exporter": "python",
   "pygments_lexer": "ipython3",
   "version": "3.10.9"
  },
  "orig_nbformat": 4,
  "vscode": {
   "interpreter": {
    "hash": "c6e4e9f98eb68ad3b7c296f83d20e6de614cb42e90992a65aa266555a3137d0d"
   }
  }
 },
 "nbformat": 4,
 "nbformat_minor": 2
}
