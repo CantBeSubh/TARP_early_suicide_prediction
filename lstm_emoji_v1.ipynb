{
 "cells": [
  {
   "cell_type": "code",
   "execution_count": 1,
   "metadata": {},
   "outputs": [],
   "source": [
    "import pandas as pd\n",
    "from textblob import TextBlob\n",
    "import nltk\n",
    "from textblob import Word\n",
    "from nltk.corpus import stopwords\n",
    "from sklearn.preprocessing import LabelEncoder\n",
    "from sklearn.metrics import classification_report,confusion_matrix,accuracy_score\n",
    "from keras.models import Sequential\n",
    "from keras.preprocessing.text import Tokenizer\n",
    "from tensorflow.keras.preprocessing.sequence import pad_sequences\n",
    "from keras.layers import Dense, Embedding, LSTM, SpatialDropout1D,Conv1D,MaxPooling1D,GlobalMaxPooling1D,Flatten,SimpleRNN\n",
    "from keras import regularizers\n",
    "from sklearn.model_selection import train_test_split \n",
    "from tensorflow.keras.utils import to_categorical\n",
    "from sklearn import preprocessing\n",
    "from keras import layers"
   ]
  },
  {
   "cell_type": "code",
   "execution_count": 8,
   "metadata": {},
   "outputs": [],
   "source": [
    "df=pd.read_csv(\"/Users/aman/coding stuff/sem 6/tarp/dataset/Suicide_Detection.csv\")\n",
    "df=df.dropna()"
   ]
  },
  {
   "cell_type": "code",
   "execution_count": 9,
   "metadata": {},
   "outputs": [],
   "source": [
    "\n",
    "max_words = 5000\n",
    "max_len = 200\n",
    "\n",
    "tokenizer = Tokenizer(num_words=max_words)\n",
    "tokenizer.fit_on_texts(df['text'].values)\n",
    "sequences = tokenizer.texts_to_sequences(df['text'].values)\n",
    "comments = pad_sequences(sequences, maxlen=max_len)"
   ]
  },
  {
   "cell_type": "code",
   "execution_count": 10,
   "metadata": {},
   "outputs": [
    {
     "name": "stdout",
     "output_type": "stream",
     "text": [
      "232074\n"
     ]
    }
   ],
   "source": [
    "print(len(comments))"
   ]
  },
  {
   "cell_type": "code",
   "execution_count": 11,
   "metadata": {},
   "outputs": [],
   "source": [
    "\n",
    "model2 = Sequential()\n",
    "model2.add(layers.Embedding(max_words, 20)) #The embedding layer\n",
    "model2.add(layers.LSTM(100,dropout=0.5)) #Our LSTM layer\n",
    "model2.add(layers.Dense(3,activation='softmax'))\n",
    "model2.compile(optimizer='rmsprop',loss='categorical_crossentropy', metrics=['accuracy'])"
   ]
  },
  {
   "cell_type": "code",
   "execution_count": 12,
   "metadata": {},
   "outputs": [],
   "source": [
    "df[\"class\"]=preprocessing.LabelEncoder().fit_transform(df[\"class\"])\n",
    "#X_train,X_test,y_train,y_test=train_test_split(X,df[\"class\"],test_size=0.2)\n",
    "X_train,X_test,y_train,y_test=train_test_split(comments,df[\"class\"],test_size=0.2)\n",
    "y_train = to_categorical(y_train, 3)\n",
    "y_test = to_categorical(y_test, 3)"
   ]
  },
  {
   "cell_type": "code",
   "execution_count": 13,
   "metadata": {},
   "outputs": [
    {
     "name": "stdout",
     "output_type": "stream",
     "text": [
      "Epoch 1/25\n",
      "5802/5802 [==============================] - 508s 87ms/step - loss: 0.2471 - accuracy: 0.9025\n",
      "Epoch 2/25\n",
      "5802/5802 [==============================] - 502s 87ms/step - loss: 0.1914 - accuracy: 0.9293\n",
      "Epoch 3/25\n",
      "5802/5802 [==============================] - 483s 83ms/step - loss: 0.1848 - accuracy: 0.9318\n",
      "Epoch 4/25\n",
      "5802/5802 [==============================] - 509s 88ms/step - loss: 0.1789 - accuracy: 0.9342\n",
      "Epoch 5/25\n",
      "5802/5802 [==============================] - 509s 88ms/step - loss: 0.1749 - accuracy: 0.9357\n",
      "Epoch 6/25\n",
      "5802/5802 [==============================] - 522s 90ms/step - loss: 0.1719 - accuracy: 0.9372\n",
      "Epoch 7/25\n",
      "5802/5802 [==============================] - 521s 90ms/step - loss: 0.1701 - accuracy: 0.9378\n",
      "Epoch 8/25\n",
      "5802/5802 [==============================] - 514s 89ms/step - loss: 0.1678 - accuracy: 0.9385\n",
      "Epoch 9/25\n",
      "5802/5802 [==============================] - 509s 88ms/step - loss: 0.1665 - accuracy: 0.9392\n",
      "Epoch 10/25\n",
      "5802/5802 [==============================] - 511s 88ms/step - loss: 0.1651 - accuracy: 0.9397\n",
      "Epoch 11/25\n",
      "5802/5802 [==============================] - 513s 88ms/step - loss: 0.1636 - accuracy: 0.9408\n",
      "Epoch 12/25\n",
      "5802/5802 [==============================] - 512s 88ms/step - loss: 0.1629 - accuracy: 0.9406\n",
      "Epoch 13/25\n",
      "5802/5802 [==============================] - 517s 89ms/step - loss: 0.1621 - accuracy: 0.9412\n",
      "Epoch 14/25\n",
      "5802/5802 [==============================] - 518s 89ms/step - loss: 0.1620 - accuracy: 0.9415\n",
      "Epoch 15/25\n",
      "5802/5802 [==============================] - 573s 99ms/step - loss: 0.1613 - accuracy: 0.9419\n",
      "Epoch 16/25\n",
      "5802/5802 [==============================] - 2744s 473ms/step - loss: 0.1602 - accuracy: 0.9424\n",
      "Epoch 17/25\n",
      "5802/5802 [==============================] - 555s 96ms/step - loss: 0.1598 - accuracy: 0.9425\n",
      "Epoch 18/25\n",
      "5802/5802 [==============================] - 533s 92ms/step - loss: 0.1594 - accuracy: 0.9427\n",
      "Epoch 19/25\n",
      "5802/5802 [==============================] - 535s 92ms/step - loss: 0.1585 - accuracy: 0.9432\n",
      "Epoch 20/25\n",
      "5802/5802 [==============================] - 519s 89ms/step - loss: 0.1579 - accuracy: 0.9433\n",
      "Epoch 21/25\n",
      "5802/5802 [==============================] - 541s 93ms/step - loss: 0.1579 - accuracy: 0.9434\n",
      "Epoch 22/25\n",
      "5802/5802 [==============================] - 1865s 322ms/step - loss: 0.1569 - accuracy: 0.9435\n",
      "Epoch 23/25\n",
      "5802/5802 [==============================] - 506s 87ms/step - loss: 0.1579 - accuracy: 0.9432\n",
      "Epoch 24/25\n",
      "5802/5802 [==============================] - 557s 96ms/step - loss: 0.1575 - accuracy: 0.9435\n",
      "Epoch 25/25\n",
      "5802/5802 [==============================] - 527s 91ms/step - loss: 0.1573 - accuracy: 0.9437\n",
      "1451/1451 [==============================] - 40s 27ms/step - loss: 0.1639 - accuracy: 0.9399\n"
     ]
    },
    {
     "data": {
      "text/plain": [
       "[0.16388840973377228, 0.9398901462554932]"
      ]
     },
     "execution_count": 13,
     "metadata": {},
     "output_type": "execute_result"
    }
   ],
   "source": [
    "model2.fit(X_train, y_train, epochs=25)\n",
    "model2.evaluate(X_test,y_test)"
   ]
  }
 ],
 "metadata": {
  "kernelspec": {
   "display_name": "base",
   "language": "python",
   "name": "python3"
  },
  "language_info": {
   "codemirror_mode": {
    "name": "ipython",
    "version": 3
   },
   "file_extension": ".py",
   "mimetype": "text/x-python",
   "name": "python",
   "nbconvert_exporter": "python",
   "pygments_lexer": "ipython3",
   "version": "3.10.9"
  },
  "orig_nbformat": 4,
  "vscode": {
   "interpreter": {
    "hash": "c6e4e9f98eb68ad3b7c296f83d20e6de614cb42e90992a65aa266555a3137d0d"
   }
  }
 },
 "nbformat": 4,
 "nbformat_minor": 2
}
